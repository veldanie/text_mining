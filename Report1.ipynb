{
 "cells": [
  {
   "cell_type": "markdown",
   "metadata": {},
   "source": [
    "\n",
    "**Exercise 1.**\n",
    "\n",
    "\n",
    "Pre-processing of the data:\n",
    "\n",
    "* Importing all the necessary packages for the project, including the nltk package, which is specific for text mining functions."
   ]
  },
  {
   "cell_type": "code",
   "execution_count": 1,
   "metadata": {
    "collapsed": true
   },
   "outputs": [],
   "source": [
    "#import packages\n",
    "import numpy as np\n",
    "import matplotlib.pyplot as plt\n",
    "import nltk as nl\n",
    "from nltk.tokenize import word_tokenize\n",
    "import pandas as pd"
   ]
  },
  {
   "cell_type": "markdown",
   "metadata": {},
   "source": [
    "* Importing state of the union speech as our data for text mining. "
   ]
  },
  {
   "cell_type": "code",
   "execution_count": 2,
   "metadata": {
    "collapsed": true
   },
   "outputs": [],
   "source": [
    "#Import state-of-the-union speech\n",
    "text_raw = pd.read_csv('./speech_data_extend.txt', sep='\\t')"
   ]
  },
  {
   "cell_type": "markdown",
   "metadata": {},
   "source": [
    "* Each row in the dataframe corresponds to a paragraph (i.e. an address). We only take the speeches starting from 2000, and get exactly 1232 paragraphs. \n",
    "\n",
    "(*Taking a subset of all State of the Union addresses helps us speeding up the processing in exercises 3 and 4. However, the methods developed in exercises 2, 3 and 4 could be applied to the whole corpus of addresses without loss of generality. It would just require some extra processing time.*)"
   ]
  },
  {
   "cell_type": "code",
   "execution_count": 3,
   "metadata": {
    "collapsed": false
   },
   "outputs": [
    {
     "name": "stdout",
     "output_type": "stream",
     "text": [
      "Number of paragraphs (from year 2000): 1232\n"
     ]
    }
   ],
   "source": [
    "#Consider paragraphs after 2000.\n",
    "text_data = text_raw.loc[text_raw['year']>=2000, :]\n",
    "\n",
    "#Number of paragraphs:\n",
    "print(\"Number of paragraphs (from year 2000): %d\" %len(text_data))"
   ]
  },
  {
   "cell_type": "markdown",
   "metadata": {},
   "source": [
    "* Steps in Preprocessing of the data:\n",
    "   \n",
    "    + **Tokenization**: Tokenization is the splitting of a raw character string into individual elements of interest: words, numbers, punctuation. We strip out all non-alphabetic elements.\n",
    "    \n",
    "    + **Stopword removal**: Stopwords are connecting words with little semantic information that are typically removed from token lists because they do not help distinguish one document from another.\n",
    "    \n",
    "    + **Linguistic roots**: Most often, the relevant information in tokens is their linguistic root, not their grammatical form. We want to treat ‘prefer’, ‘prefers’, ‘preferences’ as equivalent tokens. We use the stemming option using Porter Stemmer. "
   ]
  },
  {
   "cell_type": "code",
   "execution_count": 4,
   "metadata": {
    "collapsed": false
   },
   "outputs": [],
   "source": [
    "##1. Preprocessing of the data\n",
    "from stop_words import get_stop_words\n",
    "stop_words = get_stop_words('en')\n",
    "from nltk.stem.porter import PorterStemmer\n",
    "st = PorterStemmer()\n",
    "docs = pd.Series(np.zeros(text_data.shape[0]))\n",
    "tokens = [] #List of all words.\n",
    "\n",
    "# Download corpora if necessary: nl.download()\n",
    "\n",
    "\n",
    "for i, line in enumerate(text_data['speech']):\n",
    "    #Tokenize the data:\n",
    "    doc_i = word_tokenize(line.lower())\n",
    "    #Remove non-alphabetic characters:\n",
    "    doc_i = [tok for tok in doc_i if tok.isalpha()]\n",
    "    #Remove stopwords using a list of your choice:\n",
    "    doc_i = [tok for tok in doc_i if tok not in stop_words]\n",
    "    #Stem the data using the Porter stemmer:\n",
    "    doc_i = [st.stem(tok) for tok in doc_i]\n",
    "\n",
    "    tokens.extend(doc_i)\n",
    "    docs.iloc[i] = doc_i"
   ]
  },
  {
   "cell_type": "markdown",
   "metadata": {},
   "source": [
    "* Calculation of the TF-IDF, removing of the less relevant words based on the TF-IDF and calculation of the document-term matrix.\n",
    "\n",
    "-----------------\n",
    "\n",
    "**TF-IDF** is a weighting of the terms in the document that allows to normalize the count/frequency of each term. It is composed of the following elements:\n",
    "\n",
    "1-----------------\n",
    "\n",
    "**TF (term frequency) score**: Frequency of a term in a document. More frequent a term, more chances that this particular document is relevant to this query term. \n",
    "\n",
    "Let x be the count of the $v_{th}$ term in document d. Then its tf score is given as:\n",
    "tf = 1 + log(x).\n",
    "\n",
    "2-----------------\n",
    "\n",
    "**IDF (inverse document frequency) score**: It is computed by taking the logarithm of the total number of documents in the corpus divided by the number of documents where the term occurred. This normalization is to up-weight the rare terms in the corpus.\n",
    "\n",
    "Let df be the number of documents that contain the term v, and D the total number of documents. Then its idf score is given as:\n",
    "idf = log(D/df).\n",
    "\n",
    "-----------------\n",
    "\n",
    "Combining the two observations, the term frequency - inverse document frequency of term v in document d is calculated as: $tf-idf = tf \\times idf$."
   ]
  },
  {
   "cell_type": "code",
   "execution_count": 5,
   "metadata": {
    "collapsed": false
   },
   "outputs": [],
   "source": [
    "# Corpus-level tf-idf score for every term, and choose a cutoff below which to remove words.\n",
    "unique_words = np.unique(tokens)\n",
    "lw = len(unique_words) # Number of words\n",
    "ld = len(docs) # Number of documents\n",
    "\n",
    "\n",
    "word_count = nl.FreqDist(tokens)\n",
    "tf = {k: 1+np.log(v) for k, v in word_count.items()}\n",
    "df = {k: np.sum(list(map(lambda x: k in x, docs))) for k in word_count.keys()}\n",
    "idf = {k: np.log(ld/v) for k, v in df.items()}\n",
    "tfidf = {k : v * tf[k] for k, v in idf.items() if k in tf}\n",
    "\n",
    "\n",
    "# Based on the ranking we select 500 words with highest tf-idf\n",
    "# 1st we get the rank\n",
    "import operator\n",
    "rank = sorted(tfidf.items(), key=operator.itemgetter(1), reverse=True)\n",
    "cutoff = rank[500][1]\n",
    "# 2nd apply the cut-off\n",
    "selected_words = {k: v for k, v in tfidf.items() if v>cutoff}\n",
    "ls = len(selected_words) # number of selected words: 500"
   ]
  },
  {
   "cell_type": "code",
   "execution_count": 6,
   "metadata": {
    "collapsed": false
   },
   "outputs": [
    {
     "data": {
      "image/png": "[encoded data removed]",
      "text/plain": [
       "<matplotlib.figure.Figure at 0x10c52b0f0>"
      ]
     },
     "metadata": {},
     "output_type": "display_data"
    },
    {
     "name": "stdout",
     "output_type": "stream",
     "text": [
      "\n",
      " Number of unique words: 4181\n",
      "\n",
      " Number of selected words (cutoff 16.4 tf-idf): 500\n"
     ]
    }
   ],
   "source": [
    "plt.plot([x[1] for x in rank])\n",
    "plt.axvline(500, color='red',linestyle='dashed')\n",
    "plt.xlabel(\"Unique terms\")\n",
    "plt.ylabel(\"TF-IDF score\")\n",
    "plt.show()\n",
    "print(\"\\n Number of unique words: %d\" %lw)\n",
    "\n",
    "print(\"\\n Number of selected words (cutoff %3.1f tf-idf): %d\" %(cutoff,ls))\n",
    "\n",
    "#Document-term matrix using 500 words selected using the tf-idf score.\n",
    "X = pd.DataFrame(np.zeros(shape = (ld, ls)), columns = selected_words.keys())\n",
    "\n",
    "for w in selected_words.keys():\n",
    "    X[w] = list(map(lambda x: x.count(w), docs))"
   ]
  },
  {
   "cell_type": "markdown",
   "metadata": {},
   "source": [
    "In the choosing of the cutoff TF-IDF score, we have considered a lower value than that suggested by the chart (1500 or 2000) in order to speed up the calculations for exercises 3 and 4. With larger cutoff limits, the same code would apply but would require more time for the processing of the data.\n",
    "\n",
    "The table below presents the top-20 terms with the highest TF-IDF score:\n",
    "\n",
    "| Terms with the highest TF-IDF|\n",
    "| :-----------------------:|\n",
    "| gun, earmark, sun, agreement, teacher, trade, ga, border, iran, cori|\n",
    "| deserv, aid, prison, iraqi, marriag, afghan, export, saddam, inspector|\n"
   ]
  },
  {
   "cell_type": "markdown",
   "metadata": {},
   "source": [
    "\n",
    "**Exercise 2.**\n",
    "\n",
    "\n",
    "We want to measure the heterogeneity across addresses based on positive and negative economic words. \n",
    "\n",
    "For this purpose, we use the Loughran-McDonald Master Dictionary (henceforth, LM dictionary) which uses words in 10-K documents to complement the general dictionary with economic terms.\n",
    "\n",
    "The table below presents the list of negative and uncertainty terms (as identified in the LM dictionary) within the selected significant terms (i.e. 500 with the highest TF-IDF score, as found in exercise 1) appearing in the addresses from 2000 to 2014.\n",
    "\n",
    "| Type         | Terms in our corpus |\n",
    "|:-------------:|:-----------------------:|\n",
    "| Negative | threaten, **crime**, destruct, destroy, **violenc**, wors, defeat, fail, bad, fear, wast, lost, <br> recess, deni, unemploy, seriou, critic, close, concern, lose, fire, break, <br> question, burden, defens, illeg, difficult|\n",
    "| Uncertainty            |depend, risk, might, may |\n",
    "\n",
    "\n",
    "We note that there are some words that clearly refer to crime rather than to economic difficulties. We therefore remove them from the dictionary because we are only interested in measuring economic turmoil. \n",
    "\n",
    "Using the document-term matrix (first without weighting by TF-IDF), we sum the occurrence of these terms in each address and divide them by the number of total occurrence of the terms in the corpus (i.e. all addresses from 2000 to 2014).\n",
    "\n",
    "We then map each address to a year, and sum up the occurrences of the terms above corresponding to the same year. We plot the results together with data on the the economic situation in the United States during the same period. \n",
    "\n",
    "In particular, we take OECD data on GDP growth in the period 2000-2014. Since the State of the Union addresses take place in January or February of each year, we use the the % GDP growth at the end of the previous year as a proxy of the economic situation. \n",
    "\n",
    "For illustrative purposes, in the chart we inverse the GDP growth (i.e. change the sign) in order to make it match the word count. That is, since we are measuring the occurrence of negative terms, we expect high word counts to match recession periods, i.e. negative GDP growth.  "
   ]
  },
  {
   "cell_type": "code",
   "execution_count": 7,
   "metadata": {
    "collapsed": false
   },
   "outputs": [
    {
     "name": "stderr",
     "output_type": "stream",
     "text": [
      "/Users/veldanie/cml-env/lib/python3.6/site-packages/ipykernel/__main__.py:26: SettingWithCopyWarning: \n",
      "A value is trying to be set on a copy of a slice from a DataFrame\n",
      "\n",
      "See the caveats in the documentation: http://pandas.pydata.org/pandas-docs/stable/indexing.html#indexing-view-versus-copy\n"
     ]
    }
   ],
   "source": [
    "##2. Analysis using dictionary methods:\n",
    "# Load the dictionary & select list of negative and uncertainty words\n",
    "dictionary = pd.read_csv('./LoughranMcDonald_MasterDictionary_2014.csv')\n",
    "neg_words = dictionary.loc[dictionary['Negative']!=0,'Word']\n",
    "uncert_words = dictionary.loc[dictionary['Uncertainty']!=0,'Word']\n",
    "\n",
    "# Stem words in dictionary\n",
    "for i,line in enumerate(neg_words):\n",
    "    neg_words.iloc[i] = st.stem(neg_words.iloc[i])\n",
    "\n",
    "for i,line in enumerate(uncert_words):\n",
    "    uncert_words.iloc[i] = st.stem(uncert_words.iloc[i])\n",
    "\n",
    "negative = list(set(neg_words))\n",
    "uncertain = list(set(uncert_words))\n",
    "\n",
    "# List of negative/uncert words appearing among those selected using tf-idf\n",
    "negative_subset = list(set(negative)&set(list(selected_words.keys())))\n",
    "uncertain_subset = list(set(uncertain)&set(list(selected_words.keys())))\n",
    "negative_uncertain = negative_subset + uncertain_subset\n",
    "\n",
    "# We reduce the document-term matrix to these columns\n",
    "DM = X[negative_uncertain]\n",
    "\n",
    "# We drop those words that relate to crime\n",
    "DM.drop(['crime','violenc'], axis=1, inplace=True)\n",
    "\n",
    "# sum all columns (i.e. number of negative terms per paragraph) and divide by the number of negative terms in the whole corpus\n",
    "DM_negative = DM.sum(axis=1)/DM.values.sum()\n",
    "\n",
    "# Map paragraphs to years\n",
    "nyears = np.unique(text_data['year']).size\n",
    "year0 = np.unique(text_data['year'])[0]\n",
    "years = np.zeros(nyears+1,dtype=np.int)\n",
    "\n",
    "for i in range(nyears):\n",
    "    if(i==0):\n",
    "        years[i+1] = len(text_data.loc[text_data['year']==year0,:])\n",
    "    else:\n",
    "        years[i+1] = years[i] + len(text_data.loc[text_data['year']==(year0+i),:])\n",
    "\n",
    "# we collapse by year (adding all negative terms made in one State-of-the-union)\n",
    "negative_year = np.zeros(nyears)\n",
    "for i in range(nyears):\n",
    "    negative_year[i] = DM_negative[years[i]:years[i+1]].values.sum()\n"
   ]
  },
  {
   "cell_type": "code",
   "execution_count": 8,
   "metadata": {
    "collapsed": false,
    "scrolled": false
   },
   "outputs": [
    {
     "data": {
      "image/png": "[encoded data removed]",
      "text/plain": [
       "<matplotlib.figure.Figure at 0x10c9b4080>"
      ]
     },
     "metadata": {},
     "output_type": "display_data"
    }
   ],
   "source": [
    "# load OECD data on GDP growth in the US \n",
    "gdp = pd.read_csv('./OECD_annual.csv')\n",
    "chart_gdp = pd.DataFrame(index=np.unique(text_data['year']),data=np.asarray(-gdp['Value']))\n",
    "\n",
    "# load the results\n",
    "chart_data = pd.DataFrame(index=np.unique(text_data['year']),data=negative_year)\n",
    "\n",
    "# join them\n",
    "chart_info = pd.concat([chart_data,chart_gdp],axis=1)\n",
    "chart_info.columns = ['Negative terms','GDP']\n",
    "\n",
    "# calculate correlation\n",
    "from scipy.stats.stats import pearsonr\n",
    "stats = pearsonr(np.asarray(gdp['Value']),negative_year)\n",
    "\n",
    "\n",
    "# plot\n",
    "import matplotlib\n",
    "matplotlib.style.use('seaborn-paper')\n",
    "ax = chart_info.plot(secondary_y=['GDP'])\n",
    "ax.legend(loc=(0.1,0.85))\n",
    "ax.right_ax.legend(loc=(0.1,0.77))\n",
    "ax.text(0.1, 0.7,'Correlation: {:4.2f}' .format(stats[0]),transform = ax.transAxes, fontsize=9)\n",
    "ax.text(0.1, 0.62,'P-value: {:.1E}' .format(stats[1]),transform = ax.transAxes, fontsize=9)\n",
    "\n",
    "ax.set_title('Negative State-of-the-Union addresses and % GDP growth \\n United States, 2000-2014 \\n')\n",
    "ax.set_ylabel('Occurrence negative terms')\n",
    "ax.right_ax.set_ylabel('% GDP decrease')\n",
    "plt.show()\n"
   ]
  },
  {
   "cell_type": "markdown",
   "metadata": {},
   "source": [
    "We note that the correlation between a State-of-the-Union address with a prevalence of negative economic words and a bad economic situation is high and significant. \n",
    "\n",
    "Moreover, it has the sign we expected: negative. Indeed, the higher the occurrence of negative words, the worse the economic situation. This is particularly the case during the 2008-2010 crisis. \n",
    "\n",
    "The chart below shows the results of applying the same procedure but using the TF-IDF weighting instead of the unweighted document-term matrix. \n",
    "\n",
    "We note that the results of applying the TF-IDF weighting are in line with those obtained with the unweighted document-term matrix: strong and significant negative correlation. However, we note that the correlation obtained with the TF-IDF weighting is slightly higher and slightly more significant (lower p-value). "
   ]
  },
  {
   "cell_type": "code",
   "execution_count": 9,
   "metadata": {
    "collapsed": false
   },
   "outputs": [
    {
     "name": "stderr",
     "output_type": "stream",
     "text": [
      "/Users/veldanie/cml-env/lib/python3.6/site-packages/ipykernel/__main__.py:14: SettingWithCopyWarning: \n",
      "A value is trying to be set on a copy of a slice from a DataFrame\n",
      "\n",
      "See the caveats in the documentation: http://pandas.pydata.org/pandas-docs/stable/indexing.html#indexing-view-versus-copy\n"
     ]
    },
    {
     "data": {
      "image/png": "[encoded data removed]",
      "text/plain": [
       "<matplotlib.figure.Figure at 0x10caed7f0>"
      ]
     },
     "metadata": {},
     "output_type": "display_data"
    }
   ],
   "source": [
    "# Generate the tf-idf-weighted document-term matrix S.\n",
    "tf = X.copy()\n",
    "tf[tf > 0] = 1+ np.log(X[X>0]) #term frequency for each word and each document.\n",
    "\n",
    "S = X.copy()\n",
    "for i in range(ls):\n",
    "    S[tf.columns[i]] = tf.iloc[:,i] * idf[tf.columns[i]] #tf*inverse document frequency\n",
    "\n",
    "\n",
    "# We reduce the document-term matrix to these columns\n",
    "DM2 = S[negative_uncertain]\n",
    "\n",
    "# We drop those words that relate to crime\n",
    "DM2.drop(['crime','violenc'], axis=1, inplace=True)\n",
    "\n",
    "# sum all columns (i.e. number of negative terms per paragraph) and divide by the number of negative terms in the whole corpus\n",
    "DM2_negative = DM2.sum(axis=1)/DM2.values.sum()\n",
    "\n",
    "# we collapse by year (adding all negative terms made in one State-of-the-union)\n",
    "negative_year2 = np.zeros(nyears)\n",
    "for i in range(nyears):\n",
    "    negative_year2[i] = DM2_negative[years[i]:years[i+1]].values.sum()\n",
    "\n",
    "# load the results\n",
    "chart_data2 = pd.DataFrame(index=np.unique(text_data['year']),data=negative_year2)\n",
    "\n",
    "# join them\n",
    "chart_info2 = pd.concat([chart_data2,chart_gdp],axis=1)\n",
    "chart_info2.columns = ['Negative terms','GDP']\n",
    "\n",
    "# calculate correlation\n",
    "from scipy.stats.stats import pearsonr\n",
    "stats = pearsonr(np.asarray(gdp['Value']),negative_year2)\n",
    "\n",
    "\n",
    "# plot\n",
    "ax = chart_info2.plot(secondary_y=['GDP'])\n",
    "ax.legend(loc=(0.1,0.85))\n",
    "ax.right_ax.legend(loc=(0.1,0.77))\n",
    "ax.text(0.1, 0.7,'Correlation: {:4.2f}' .format(stats[0]),transform = ax.transAxes, fontsize=9)\n",
    "ax.text(0.1, 0.62,'P-value: {:.1E}' .format(stats[1]),transform = ax.transAxes, fontsize=9)\n",
    "\n",
    "ax.set_title('Negative State-of-the-Union addresses and % GDP growth \\n United States, 2000-2014 (TF-IDF)\\n')\n",
    "ax.set_ylabel('Occurrence negative terms')\n",
    "ax.right_ax.set_ylabel('% GDP decrease')\n",
    "plt.show()\n",
    "\n"
   ]
  },
  {
   "cell_type": "markdown",
   "metadata": {},
   "source": [
    "\n",
    "**Exercise 3.**\n",
    "\n",
    "\n",
    "The data processing performed in exercise 1 allowed us to generate the document-term matrix $X$ by counting the number times that each term occurs in each document. In our analysis, a document corresponds to a paragraph of the corpus, and we considered the period from 2000 to 2014. Within this period we observed 1232 paragraphs. After computing the corpus-level tf-idf score for every term, we selected 500 words. Therefore $X$ is a $1232\\times 500$ matrix. \n",
    "\n",
    "The following script calculates the tf-idf-weighted document-term matrix $S$. This matrix is built based on the document-term matrix $X$. We perform the singular value decomposition on $S$, and retain 200 sigular values, i.e. $\\Sigma_{ii}=0$ for $i>200$. Then we estimate $\\hat{S}= A\\Sigma B$. \n",
    "\n",
    "\n"
   ]
  },
  {
   "cell_type": "code",
   "execution_count": 10,
   "metadata": {
    "collapsed": true
   },
   "outputs": [],
   "source": [
    "##3. Generate the tf-idf-weighted document-term matrix S. Perform SVD.\n",
    "\n",
    "tf = X.copy()\n",
    "tf[tf > 0] = 1+ np.log(X[X>0]) #term frequency for each word and each document.\n",
    "\n",
    "S = X.copy()\n",
    "for i in range(ls):\n",
    "    S[tf.columns[i]] = tf.iloc[:,i] * idf[tf.columns[i]] #tf*inverse document frequency\n",
    "\n",
    "# Singular Value Decomposition:\n",
    "S_svd = np.linalg.svd(S, full_matrices=1, compute_uv=1)\n",
    "#X = A SIGMA B\n",
    "A = S_svd[0]\n",
    "SIGMA = np.vstack((np.diag(S_svd[1]),np.zeros(shape = (ld-ls, ls))))\n",
    "B = S_svd[2]\n",
    "\n",
    "#We retain 200 singular values and approximate S.\n",
    "SIGMA2 = SIGMA.copy()\n",
    "for i in range(200,ls-1):\n",
    "    SIGMA2[i,i] = 0\n",
    "\n",
    "S_hat = A.dot(SIGMA2).dot(B)\n"
   ]
  },
  {
   "cell_type": "markdown",
   "metadata": {},
   "source": [
    "Next, we compare the cosine similarity of documents using both $S$ and $\\hat{S}$. As mentioned before, the period under analysis comprises 2000-2014. Within this period we have 560 documents from Obama speeches, and 544 documents from Bush speeches. For the exercise, we compute the average cosine similarity within and across speeches made by Obama and Bush. Thefore we estimata 3 averages using $S$ and another 3 averages using $\\hat{S}$. The figure below exhibits the results.\n",
    "\n",
    "![Cosine Similarity](cs.png)\n",
    "\n",
    "As expected, the average cosine similarity within Bush and within Obama, is higher than the average cosine similary when crossing documents from Bush and Obama. This result is consistent for both $S$ and $\\hat{S}$. Additionally, we observe that the similarities estimated using $\\hat{S}$ are higher than those estimated with $S$. The following script shows a function that calculates the similarity and the procedure to estimate the averages.  \n"
   ]
  },
  {
   "cell_type": "code",
   "execution_count": 11,
   "metadata": {
    "collapsed": false
   },
   "outputs": [],
   "source": [
    "# Function that estimates Cosine similarity:\n",
    "def cos_sim (di, dj):\n",
    "    if np.sum(di)==0 or np.sum(dj)==0:\n",
    "        sim = 0\n",
    "    else:\n",
    "        sim = np.dot(di,dj)/(np.sqrt(np.dot(di,di))*np.sqrt(np.dot(dj,dj)))\n",
    "    return (sim)\n",
    "\n",
    "#Cosine similarites using S and S_hat:\n",
    "S_B = np.array(S)[text_data['president']=='BushII']\n",
    "S_O = np.array(S)[text_data['president']=='Obama']\n",
    "\n",
    "S_hat_B = S_hat[text_data['president']=='BushII']\n",
    "S_hat_O = S_hat[text_data['president']=='Obama']\n",
    "\n",
    "#Bush within Average Cosine Similarity:\n",
    "bb1 = np.mean([cos_sim(S_B[i],S_B[j]) for i in range(S_B.shape[0]) for j in range(S_B.shape[0])])\n",
    "bb2 = np.mean([cos_sim(S_hat_B[i],S_hat_B[j]) for i in range(S_hat_B.shape[0]) for j in range(S_hat_B.shape[0])])\n",
    "\n",
    "#Obama within Average Cosine Similarity:\n",
    "oo1 = np.mean([cos_sim(S_O[i],S_O[j]) for i in range(S_O.shape[0]) for j in range(S_O.shape[0])])\n",
    "oo2 = np.mean([cos_sim(S_hat_O[i],S_hat_O[j]) for i in range(S_hat_O.shape[0]) for j in range(S_hat_O.shape[0])])\n",
    "\n",
    "#Bush-Obama cross Average Cosine Similarity:\n",
    "bo1 = np.mean([cos_sim(S_B[i],S_O[j]) for i in range(S_B.shape[0]) for j in range(S_O.shape[0])])\n",
    "bo2 = np.mean([cos_sim(S_hat_B[i],S_hat_O[j]) for i in range(S_hat_B.shape[0]) for j in range(S_hat_O.shape[0])])\n",
    "\n",
    "ind = np.arange(3)  # the x locations for the groups\n",
    "width = 0.35\n",
    "\n",
    "fig, ax = plt.subplots()\n",
    "rects1 = ax.bar(ind, (bb1, oo1, bo1), width, color='r')\n",
    "rects2 = ax.bar(ind + width, (bb2, oo2, bo2), width, color='y')\n",
    "\n",
    "# add some text for labels, title and axes ticks\n",
    "ax.set_ylabel('Average Cosine Similarity')\n",
    "ax.set_title('Average Cosine Similarity \\n within and across Bush and Obama (2000, 2014)')\n",
    "ax.set_xticks(ind + width / 2)\n",
    "ax.set_xticklabels(('Bush-Bush', 'Obama-Obama', 'Bush-Obama'))\n",
    "ax.legend((rects1[0], rects2[0]), ('S', 'S_hat'))\n",
    "#plt.show()\n",
    "fig.savefig('cs.png')\n"
   ]
  },
  {
   "cell_type": "markdown",
   "metadata": {},
   "source": [
    "\n",
    "**Exercise 4.**\n",
    "\n",
    "\n",
    "Given the document-term matrix $X$ generated in exercise 1 by counting the number times that each term occurs in each document, we estimate a multinomial mixture model using the EM algorithm. We assume there exists two topics, i.e. $K=2$. We initialize the probability of each topic $\\rho_{k}=1/2$, for $k=1,2$. For each topic, the vector of term probabilities $\\beta_{k}$ is initialized by drawing a sample from a Dirichlet distribution. Given that during the data-processing stage at exercise 1 we selected 500 words, in our application $\\beta_{k}$ has length 500. \n",
    "\n",
    "The EM algorithm allows us to update the estimate of $\\rho_{k}$ and $\\beta_{k}$ for $k=1,2$. At each iteration we calculate the log-likelihood and verify that it increases. If the increment is less than 1, we stop the procedure. The next figure shows the log-likelihood as a function of the number of iterations.\n",
    "\n",
    "![Log-Likelihood function. Multinomial Mixture Model.](ll.png)\n",
    "\n",
    "\n",
    "\n",
    "The table below exhibits some of the terms with highest probability after estimating $\\beta_{k}$, for $k=1,2$ using the EM algorithm.\n",
    "\n",
    "| Topic         | Terms with highest probability|\n",
    "| ------------- |:-----------------------:|\n",
    "| 1             | border, nuclear, east, Iran, Iraq, troop, Afghanistan, regim, oil|\n",
    "| 2             | social, rate, vote, benefit, medicar, parent, coverag, retir, industri|\n",
    "\n",
    "\n",
    "Given the results, we assign the label **Geopolitics** to topic 1, and **Socio-Economic** to topic 2. It is important to mention that the EM algorithm finds a local minimum, therefore, every time we run the algorithm starting from a different point we observe some changes in the results. The following script implements the EM algorithms for the multinomial mixture model. \n",
    "\n"
   ]
  },
  {
   "cell_type": "code",
   "execution_count": 13,
   "metadata": {
    "collapsed": false
   },
   "outputs": [],
   "source": [
    "#4. Multinomial Mixture Model using EM algorithm:\n",
    "#First, we define the log-likelihood:\n",
    "def log_lik (X, B, rho):\n",
    "    ll = np.sum(list(map(lambda x: np.log(np.sum([rho_i*np.prod(B_i**x) for rho_i, B_i in zip(rho, B)])), np.array(X))))\n",
    "    return(ll)\n",
    "\n",
    "#E-M Algorithm:\n",
    "K=2 #Number of Topics\n",
    "B = np.random.dirichlet(np.ones(ls), K) #Initial Beta matrix.\n",
    "rho = np.ones(K)/K # Initial rho vector.\n",
    "max_iter = 100 # Max number of iterations\n",
    "ll = [log_lik(X,B,rho)]\n",
    "for i in range(max_iter):\n",
    "    #E-step (lecture 3, slide 19):\n",
    "    z = np.array(list(map(lambda x: [rho_i*np.prod(B_i**x) for rho_i, B_i in zip(rho, B)], np.array(X))))\n",
    "    for i in range(ld):\n",
    "        z[i] = z[i]/np.sum(z[i])\n",
    "\n",
    "    #M-step (lecture 3, slide 20):\n",
    "    rho = np.sum(z, axis = 0) / np.sum(np.sum(z, axis = 0))\n",
    "    for k in range(K):\n",
    "        B[k] = np.sum([z_i*x_i for z_i, x_i in zip(z[:,k], np.array(X))], axis = 0) / np.sum([z_i*x_i for z_i, x_i in zip(z[:,k], np.sum(np.array(X),axis = 1))])\n",
    "\n",
    "    #log-likelihood at each iteration:\n",
    "    ll.extend([log_lik(X,B,rho)])\n",
    "    delta = np.abs(ll[-2] - ll[-1])\n",
    "    if delta < 1:\n",
    "        break\n",
    "\n",
    "## Top terms per topic:\n",
    "top_terms = []\n",
    "for k in range(K):\n",
    "    new_terms = X.columns[B[k]>0.006]\n",
    "    top_terms.append(new_terms)\n",
    "\n",
    "fig, ax = plt.subplots()\n",
    "plt.plot(ll)\n",
    "plt.xlabel('Iterations')\n",
    "plt.title('Log-Likelihood')\n",
    "fig.savefig('ll.png')\n"
   ]
  }
 ],
 "metadata": {
  "celltoolbar": "Edit Metadata",
  "kernelspec": {
   "display_name": "Python 3",
   "language": "python",
   "name": "python3"
  },
  "language_info": {
   "codemirror_mode": {
    "name": "ipython",
    "version": 3
   },
   "file_extension": ".py",
   "mimetype": "text/x-python",
   "name": "python",
   "nbconvert_exporter": "python",
   "pygments_lexer": "ipython3",
   "version": "3.6.0"
  }
 },
 "nbformat": 4,
 "nbformat_minor": 2
}
